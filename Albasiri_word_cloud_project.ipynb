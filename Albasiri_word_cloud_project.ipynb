{
  "nbformat": 4,
  "nbformat_minor": 0,
  "metadata": {
    "colab": {
      "name": "Albasiri word cloud project.ipynb",
      "provenance": []
    },
    "kernelspec": {
      "name": "python3",
      "display_name": "Python 3"
    }
  },
  "cells": [
    {
      "cell_type": "code",
      "metadata": {
        "id": "LgTy2-Wd7gdQ",
        "colab": {
          "base_uri": "https://localhost:8080/"
        },
        "outputId": "b2acacfe-583d-4c17-efeb-0cd2eedd79d2"
      },
      "source": [
        "! pip install nltk"
      ],
      "execution_count": null,
      "outputs": [
        {
          "output_type": "stream",
          "text": [
            "Requirement already satisfied: nltk in /usr/local/lib/python3.6/dist-packages (3.2.5)\n",
            "Requirement already satisfied: six in /usr/local/lib/python3.6/dist-packages (from nltk) (1.15.0)\n"
          ],
          "name": "stdout"
        }
      ]
    },
    {
      "cell_type": "code",
      "metadata": {
        "colab": {
          "base_uri": "https://localhost:8080/"
        },
        "id": "-XxjfO0M_me6",
        "outputId": "d9190e13-5d8e-453d-e0f6-30b0d16f7dc0"
      },
      "source": [
        "import nltk\n",
        "nltk.download('stopwords')\n",
        "nltk.download('punkt')"
      ],
      "execution_count": null,
      "outputs": [
        {
          "output_type": "stream",
          "text": [
            "[nltk_data] Downloading package stopwords to /root/nltk_data...\n",
            "[nltk_data]   Unzipping corpora/stopwords.zip.\n",
            "[nltk_data] Downloading package punkt to /root/nltk_data...\n",
            "[nltk_data]   Unzipping tokenizers/punkt.zip.\n"
          ],
          "name": "stdout"
        },
        {
          "output_type": "execute_result",
          "data": {
            "text/plain": [
              "True"
            ]
          },
          "metadata": {
            "tags": []
          },
          "execution_count": 2
        }
      ]
    },
    {
      "cell_type": "code",
      "metadata": {
        "colab": {
          "base_uri": "https://localhost:8080/"
        },
        "id": "sMX7lTqi_zGe",
        "outputId": "0df99b24-5533-4b4d-c4ea-d18b2ffddd82"
      },
      "source": [
        "from nltk.corpus import stopwords\n",
        "print(len(stopwords.words('english')))"
      ],
      "execution_count": null,
      "outputs": [
        {
          "output_type": "stream",
          "text": [
            "179\n"
          ],
          "name": "stdout"
        }
      ]
    },
    {
      "cell_type": "code",
      "metadata": {
        "colab": {
          "base_uri": "https://localhost:8080/"
        },
        "id": "S8u9G9Te-h19",
        "outputId": "e6e50210-29b9-4eb5-d90e-95199efdc5cf"
      },
      "source": [
        "#1\n",
        "sw = []\n",
        "for word in stopwords.words('english'):\n",
        "   sw.append(word)\n",
        "sw[:10]   "
      ],
      "execution_count": null,
      "outputs": [
        {
          "output_type": "execute_result",
          "data": {
            "text/plain": [
              "['i', 'me', 'my', 'myself', 'we', 'our', 'ours', 'ourselves', 'you', \"you're\"]"
            ]
          },
          "metadata": {
            "tags": []
          },
          "execution_count": 4
        }
      ]
    },
    {
      "cell_type": "code",
      "metadata": {
        "colab": {
          "base_uri": "https://localhost:8080/"
        },
        "id": "lJUsWBKrBmSo",
        "outputId": "a95b6e6e-7c23-46c4-f9ec-fc3ca76a9299"
      },
      "source": [
        "nltk.download('gutenberg')"
      ],
      "execution_count": null,
      "outputs": [
        {
          "output_type": "stream",
          "text": [
            "[nltk_data] Downloading package gutenberg to /root/nltk_data...\n",
            "[nltk_data]   Unzipping corpora/gutenberg.zip.\n"
          ],
          "name": "stdout"
        },
        {
          "output_type": "execute_result",
          "data": {
            "text/plain": [
              "True"
            ]
          },
          "metadata": {
            "tags": []
          },
          "execution_count": 5
        }
      ]
    },
    {
      "cell_type": "code",
      "metadata": {
        "colab": {
          "base_uri": "https://localhost:8080/"
        },
        "id": "rTlpcfH9DSA3",
        "outputId": "53d347bf-f874-472f-a75b-af8d8fef5e56"
      },
      "source": [
        "#2\n",
        "nltk.corpus.gutenberg.fileids()"
      ],
      "execution_count": null,
      "outputs": [
        {
          "output_type": "execute_result",
          "data": {
            "text/plain": [
              "['austen-emma.txt',\n",
              " 'austen-persuasion.txt',\n",
              " 'austen-sense.txt',\n",
              " 'bible-kjv.txt',\n",
              " 'blake-poems.txt',\n",
              " 'bryant-stories.txt',\n",
              " 'burgess-busterbrown.txt',\n",
              " 'carroll-alice.txt',\n",
              " 'chesterton-ball.txt',\n",
              " 'chesterton-brown.txt',\n",
              " 'chesterton-thursday.txt',\n",
              " 'edgeworth-parents.txt',\n",
              " 'melville-moby_dick.txt',\n",
              " 'milton-paradise.txt',\n",
              " 'shakespeare-caesar.txt',\n",
              " 'shakespeare-hamlet.txt',\n",
              " 'shakespeare-macbeth.txt',\n",
              " 'whitman-leaves.txt']"
            ]
          },
          "metadata": {
            "tags": []
          },
          "execution_count": 6
        }
      ]
    },
    {
      "cell_type": "code",
      "metadata": {
        "id": "-u2zce1GWBBj"
      },
      "source": [
        "from nltk.corpus import gutenberg as gb"
      ],
      "execution_count": null,
      "outputs": []
    },
    {
      "cell_type": "code",
      "metadata": {
        "colab": {
          "base_uri": "https://localhost:8080/"
        },
        "id": "NeC-CiohM9gv",
        "outputId": "55c0862c-bb98-42ce-a519-4c8dfaa4c203"
      },
      "source": [
        "#3. Create a for loop that goes over all the 18 Guttenberg text corpora and outputs the number of sentences in each of the documents. \n",
        "for fileid in gb.fileids():\n",
        "  print(len(gb.sents(fileid)))"
      ],
      "execution_count": null,
      "outputs": [
        {
          "output_type": "stream",
          "text": [
            "7752\n",
            "3747\n",
            "4999\n",
            "30103\n",
            "438\n",
            "2863\n",
            "1054\n",
            "1703\n",
            "4779\n",
            "3806\n",
            "3742\n",
            "10230\n",
            "10059\n",
            "1851\n",
            "2163\n",
            "3106\n",
            "1907\n",
            "4250\n"
          ],
          "name": "stdout"
        }
      ]
    },
    {
      "cell_type": "code",
      "metadata": {
        "colab": {
          "base_uri": "https://localhost:8080/"
        },
        "id": "SQ--EhQTRx6T",
        "outputId": "5be37992-331c-46e8-c172-b35bfe92cf5b"
      },
      "source": [
        "#4. Choose any of the Gutenberg texts and save in the text_sent variable this text broken into sentences. \n",
        "#Choose the text that consists of more than 1000 and less than 5000.\n",
        "text_sent= gb.sents('burgess-busterbrown.txt')\n",
        "print(len(text_sent))"
      ],
      "execution_count": null,
      "outputs": [
        {
          "output_type": "stream",
          "text": [
            "1054\n"
          ],
          "name": "stdout"
        }
      ]
    },
    {
      "cell_type": "code",
      "metadata": {
        "colab": {
          "base_uri": "https://localhost:8080/"
        },
        "id": "Ta_NWcN_S3Wp",
        "outputId": "2606bb3f-6017-4f1b-9dc2-1e9b7ac37793"
      },
      "source": [
        "#5. Given the number of sentences in your text (stored in the text_sent variable), output the 20 middle sentences from your text.\n",
        "middle_sents= (text_sent[517:537])\n",
        "print(middle_sents)"
      ],
      "execution_count": null,
      "outputs": [
        {
          "output_type": "stream",
          "text": [
            "[['Now', 'what', 'do', 'you', 'say', '?\"'], ['Right', 'away', 'everybody', 'began', 'to', 'talk', 'at', 'the', 'same', 'time', '.'], ['It', 'was', 'such', 'a', 'simple', 'plan', 'that', 'everybody', 'agreed', 'to', 'it', '.'], ['And', 'it', 'promised', 'to', 'be', 'so', 'exciting', 'that', 'everybody', 'promised', 'to', 'be', 'there', ',', 'that', 'is', ',', 'everybody', 'but', 'Grandfather', 'Frog', 'and', 'Spotty', 'the', 'Turtle', ',', 'who', 'didn', \"'\", 't', 'care', 'to', 'go', 'so', 'far', 'away', 'from', 'the', 'Smiling', 'Pool', '.'], ['So', 'it', 'was', 'agreed', 'that', 'Blacky', 'should', 'try', 'his', 'plan', 'the', 'very', 'next', 'morning', '.'], ['XII'], ['FARMER', 'BROWN', \"'\", 'S', 'BOY', 'AND', 'BUSTER', 'BEAR', 'GROW', 'CURIOUS'], ['Ever', 'since', 'it', 'was', 'light', 'enough', 'to', 'see', 'at', 'all', ',', 'Blacky', 'the', 'Crow', 'had', 'been', 'sitting', 'in', 'the', 'top', 'of', 'the', 'tallest', 'tree', 'on', 'the', 'edge', 'of', 'the', 'Green', 'Forest', 'nearest', 'to', 'Farmer', 'Brown', \"'\", 's', 'house', ',', 'and', 'never', 'for', 'an', 'instant', 'had', 'he', 'taken', 'his', 'eyes', 'from', 'Farmer', 'Brown', \"'\", 's', 'back', 'door', '.'], ['What', 'was', 'he', 'watching', 'for', '?'], ['Why', ',', 'for', 'Farmer', 'Brown', \"'\", 's', 'boy', 'to', 'come', 'out', 'on', 'his', 'way', 'to', 'milk', 'the', 'cows', '.'], ['Meanwhile', ',', 'Sammy', 'Jay', 'was', 'slipping', 'silently', 'through', 'the', 'Green', 'Forest', ',', 'looking', 'for', 'Buster', 'Bear', ',', 'so', 'that', 'when', 'the', 'time', 'came', 'he', 'could', 'let', 'his', 'cousin', ',', 'Blacky', 'the', 'Crow', ',', 'know', 'just', 'where', 'Buster', 'was', '.'], ['By', 'and', 'by', 'the', 'back', 'door', 'of', 'Farmer', 'Brown', \"'\", 's', 'house', 'opened', ',', 'and', 'out', 'stepped', 'Farmer', 'Brown', \"'\", 's', 'boy', '.'], ['In', 'each', 'hand', 'he', 'carried', 'a', 'milk', 'pail', '.'], ['Right', 'away', 'Blacky', 'began', 'to', 'scream', 'at', 'the', 'top', 'of', 'his', 'lungs', '.'], ['\"', 'Caw', ',', 'caw', ',', 'caw', '!\"'], ['shouted', 'Blacky', '.'], ['\"', 'Caw', ',', 'caw', ',', 'caw', '!\"'], ['And', 'all', 'the', 'time', 'he', 'flew', 'about', 'among', 'the', 'trees', 'near', 'the', 'edge', 'of', 'the', 'Green', 'Forest', 'as', 'if', 'so', 'excited', 'that', 'he', 'couldn', \"'\", 't', 'keep', 'still', '.'], ['Farmer', 'Brown', \"'\", 's', 'boy', 'looked', 'over', 'there', 'as', 'if', 'he', 'wondered', 'what', 'all', 'that', 'fuss', 'was', 'about', ',', 'as', 'indeed', 'he', 'did', ',', 'but', 'he', 'didn', \"'\", 't', 'start', 'to', 'go', 'over', 'and', 'see', '.'], ['No', ',', 'Sir', ',', 'he', 'started', 'straight', 'for', 'the', 'barn', '.']]\n"
          ],
          "name": "stdout"
        }
      ]
    },
    {
      "cell_type": "code",
      "metadata": {
        "colab": {
          "base_uri": "https://localhost:8080/"
        },
        "id": "BSZri52ibIq2",
        "outputId": "8e0a4297-c8dd-4c42-9197-82d611b48c8e"
      },
      "source": [
        "#6. Count how many occurrences of the definite article are there in these 20 sentences.\n",
        "from collections import Counter\n",
        "my_counter = Counter()\n",
        "for word in middle_sents:\n",
        "      my_counter.update(word)\n",
        "my_counter['the']"
      ],
      "execution_count": null,
      "outputs": [
        {
          "output_type": "execute_result",
          "data": {
            "text/plain": [
              "20"
            ]
          },
          "metadata": {
            "tags": []
          },
          "execution_count": 11
        }
      ]
    },
    {
      "cell_type": "code",
      "metadata": {
        "colab": {
          "base_uri": "https://localhost:8080/"
        },
        "id": "tM1GPbCynPdH",
        "outputId": "9e11b1a6-6b7b-4946-9917-6f89b4ce3461"
      },
      "source": [
        "#7. For each of these 20 sentences, create a string consisting out of the stems of each of the sentence tokens. \n",
        "#Use any stemming approach presented in Chapter, sections 3.5 and 3.6, or create your own stemmer.\n",
        "from nltk.stem import PorterStemmer \n",
        "from nltk.tokenize import word_tokenize \n",
        "#flat_list\n",
        "flat_list = []\n",
        "for sublist in middle_sents:\n",
        "    for item in sublist:\n",
        "        flat_list.append(item)\n",
        "\n",
        "ps = PorterStemmer()\n",
        "for i in flat_list:\n",
        "  txttokens= word_tokenize(i)\n",
        "  txtstems= [ps.stem(t) for t in txttokens]\n",
        "  print(i, \" : \", ps.stem(i)) "
      ],
      "execution_count": null,
      "outputs": [
        {
          "output_type": "stream",
          "text": [
            "Now  :  now\n",
            "what  :  what\n",
            "do  :  do\n",
            "you  :  you\n",
            "say  :  say\n",
            "?\"  :  ?\"\n",
            "Right  :  right\n",
            "away  :  away\n",
            "everybody  :  everybodi\n",
            "began  :  began\n",
            "to  :  to\n",
            "talk  :  talk\n",
            "at  :  at\n",
            "the  :  the\n",
            "same  :  same\n",
            "time  :  time\n",
            ".  :  .\n",
            "It  :  It\n",
            "was  :  wa\n",
            "such  :  such\n",
            "a  :  a\n",
            "simple  :  simpl\n",
            "plan  :  plan\n",
            "that  :  that\n",
            "everybody  :  everybodi\n",
            "agreed  :  agre\n",
            "to  :  to\n",
            "it  :  it\n",
            ".  :  .\n",
            "And  :  and\n",
            "it  :  it\n",
            "promised  :  promis\n",
            "to  :  to\n",
            "be  :  be\n",
            "so  :  so\n",
            "exciting  :  excit\n",
            "that  :  that\n",
            "everybody  :  everybodi\n",
            "promised  :  promis\n",
            "to  :  to\n",
            "be  :  be\n",
            "there  :  there\n",
            ",  :  ,\n",
            "that  :  that\n",
            "is  :  is\n",
            ",  :  ,\n",
            "everybody  :  everybodi\n",
            "but  :  but\n",
            "Grandfather  :  grandfath\n",
            "Frog  :  frog\n",
            "and  :  and\n",
            "Spotty  :  spotti\n",
            "the  :  the\n",
            "Turtle  :  turtl\n",
            ",  :  ,\n",
            "who  :  who\n",
            "didn  :  didn\n",
            "'  :  '\n",
            "t  :  t\n",
            "care  :  care\n",
            "to  :  to\n",
            "go  :  go\n",
            "so  :  so\n",
            "far  :  far\n",
            "away  :  away\n",
            "from  :  from\n",
            "the  :  the\n",
            "Smiling  :  smile\n",
            "Pool  :  pool\n",
            ".  :  .\n",
            "So  :  So\n",
            "it  :  it\n",
            "was  :  wa\n",
            "agreed  :  agre\n",
            "that  :  that\n",
            "Blacky  :  blacki\n",
            "should  :  should\n",
            "try  :  tri\n",
            "his  :  hi\n",
            "plan  :  plan\n",
            "the  :  the\n",
            "very  :  veri\n",
            "next  :  next\n",
            "morning  :  morn\n",
            ".  :  .\n",
            "XII  :  xii\n",
            "FARMER  :  farmer\n",
            "BROWN  :  brown\n",
            "'  :  '\n",
            "S  :  S\n",
            "BOY  :  boy\n",
            "AND  :  and\n",
            "BUSTER  :  buster\n",
            "BEAR  :  bear\n",
            "GROW  :  grow\n",
            "CURIOUS  :  curiou\n",
            "Ever  :  ever\n",
            "since  :  sinc\n",
            "it  :  it\n",
            "was  :  wa\n",
            "light  :  light\n",
            "enough  :  enough\n",
            "to  :  to\n",
            "see  :  see\n",
            "at  :  at\n",
            "all  :  all\n",
            ",  :  ,\n",
            "Blacky  :  blacki\n",
            "the  :  the\n",
            "Crow  :  crow\n",
            "had  :  had\n",
            "been  :  been\n",
            "sitting  :  sit\n",
            "in  :  in\n",
            "the  :  the\n",
            "top  :  top\n",
            "of  :  of\n",
            "the  :  the\n",
            "tallest  :  tallest\n",
            "tree  :  tree\n",
            "on  :  on\n",
            "the  :  the\n",
            "edge  :  edg\n",
            "of  :  of\n",
            "the  :  the\n",
            "Green  :  green\n",
            "Forest  :  forest\n",
            "nearest  :  nearest\n",
            "to  :  to\n",
            "Farmer  :  farmer\n",
            "Brown  :  brown\n",
            "'  :  '\n",
            "s  :  s\n",
            "house  :  hous\n",
            ",  :  ,\n",
            "and  :  and\n",
            "never  :  never\n",
            "for  :  for\n",
            "an  :  an\n",
            "instant  :  instant\n",
            "had  :  had\n",
            "he  :  he\n",
            "taken  :  taken\n",
            "his  :  hi\n",
            "eyes  :  eye\n",
            "from  :  from\n",
            "Farmer  :  farmer\n",
            "Brown  :  brown\n",
            "'  :  '\n",
            "s  :  s\n",
            "back  :  back\n",
            "door  :  door\n",
            ".  :  .\n",
            "What  :  what\n",
            "was  :  wa\n",
            "he  :  he\n",
            "watching  :  watch\n",
            "for  :  for\n",
            "?  :  ?\n",
            "Why  :  whi\n",
            ",  :  ,\n",
            "for  :  for\n",
            "Farmer  :  farmer\n",
            "Brown  :  brown\n",
            "'  :  '\n",
            "s  :  s\n",
            "boy  :  boy\n",
            "to  :  to\n",
            "come  :  come\n",
            "out  :  out\n",
            "on  :  on\n",
            "his  :  hi\n",
            "way  :  way\n",
            "to  :  to\n",
            "milk  :  milk\n",
            "the  :  the\n",
            "cows  :  cow\n",
            ".  :  .\n",
            "Meanwhile  :  meanwhil\n",
            ",  :  ,\n",
            "Sammy  :  sammi\n",
            "Jay  :  jay\n",
            "was  :  wa\n",
            "slipping  :  slip\n",
            "silently  :  silent\n",
            "through  :  through\n",
            "the  :  the\n",
            "Green  :  green\n",
            "Forest  :  forest\n",
            ",  :  ,\n",
            "looking  :  look\n",
            "for  :  for\n",
            "Buster  :  buster\n",
            "Bear  :  bear\n",
            ",  :  ,\n",
            "so  :  so\n",
            "that  :  that\n",
            "when  :  when\n",
            "the  :  the\n",
            "time  :  time\n",
            "came  :  came\n",
            "he  :  he\n",
            "could  :  could\n",
            "let  :  let\n",
            "his  :  hi\n",
            "cousin  :  cousin\n",
            ",  :  ,\n",
            "Blacky  :  blacki\n",
            "the  :  the\n",
            "Crow  :  crow\n",
            ",  :  ,\n",
            "know  :  know\n",
            "just  :  just\n",
            "where  :  where\n",
            "Buster  :  buster\n",
            "was  :  wa\n",
            ".  :  .\n",
            "By  :  By\n",
            "and  :  and\n",
            "by  :  by\n",
            "the  :  the\n",
            "back  :  back\n",
            "door  :  door\n",
            "of  :  of\n",
            "Farmer  :  farmer\n",
            "Brown  :  brown\n",
            "'  :  '\n",
            "s  :  s\n",
            "house  :  hous\n",
            "opened  :  open\n",
            ",  :  ,\n",
            "and  :  and\n",
            "out  :  out\n",
            "stepped  :  step\n",
            "Farmer  :  farmer\n",
            "Brown  :  brown\n",
            "'  :  '\n",
            "s  :  s\n",
            "boy  :  boy\n",
            ".  :  .\n",
            "In  :  In\n",
            "each  :  each\n",
            "hand  :  hand\n",
            "he  :  he\n",
            "carried  :  carri\n",
            "a  :  a\n",
            "milk  :  milk\n",
            "pail  :  pail\n",
            ".  :  .\n",
            "Right  :  right\n",
            "away  :  away\n",
            "Blacky  :  blacki\n",
            "began  :  began\n",
            "to  :  to\n",
            "scream  :  scream\n",
            "at  :  at\n",
            "the  :  the\n",
            "top  :  top\n",
            "of  :  of\n",
            "his  :  hi\n",
            "lungs  :  lung\n",
            ".  :  .\n",
            "\"  :  \"\n",
            "Caw  :  caw\n",
            ",  :  ,\n",
            "caw  :  caw\n",
            ",  :  ,\n",
            "caw  :  caw\n",
            "!\"  :  !\"\n",
            "shouted  :  shout\n",
            "Blacky  :  blacki\n",
            ".  :  .\n",
            "\"  :  \"\n",
            "Caw  :  caw\n",
            ",  :  ,\n",
            "caw  :  caw\n",
            ",  :  ,\n",
            "caw  :  caw\n",
            "!\"  :  !\"\n",
            "And  :  and\n",
            "all  :  all\n",
            "the  :  the\n",
            "time  :  time\n",
            "he  :  he\n",
            "flew  :  flew\n",
            "about  :  about\n",
            "among  :  among\n",
            "the  :  the\n",
            "trees  :  tree\n",
            "near  :  near\n",
            "the  :  the\n",
            "edge  :  edg\n",
            "of  :  of\n",
            "the  :  the\n",
            "Green  :  green\n",
            "Forest  :  forest\n",
            "as  :  as\n",
            "if  :  if\n",
            "so  :  so\n",
            "excited  :  excit\n",
            "that  :  that\n",
            "he  :  he\n",
            "couldn  :  couldn\n",
            "'  :  '\n",
            "t  :  t\n",
            "keep  :  keep\n",
            "still  :  still\n",
            ".  :  .\n",
            "Farmer  :  farmer\n",
            "Brown  :  brown\n",
            "'  :  '\n",
            "s  :  s\n",
            "boy  :  boy\n",
            "looked  :  look\n",
            "over  :  over\n",
            "there  :  there\n",
            "as  :  as\n",
            "if  :  if\n",
            "he  :  he\n",
            "wondered  :  wonder\n",
            "what  :  what\n",
            "all  :  all\n",
            "that  :  that\n",
            "fuss  :  fuss\n",
            "was  :  wa\n",
            "about  :  about\n",
            ",  :  ,\n",
            "as  :  as\n",
            "indeed  :  inde\n",
            "he  :  he\n",
            "did  :  did\n",
            ",  :  ,\n",
            "but  :  but\n",
            "he  :  he\n",
            "didn  :  didn\n",
            "'  :  '\n",
            "t  :  t\n",
            "start  :  start\n",
            "to  :  to\n",
            "go  :  go\n",
            "over  :  over\n",
            "and  :  and\n",
            "see  :  see\n",
            ".  :  .\n",
            "No  :  No\n",
            ",  :  ,\n",
            "Sir  :  sir\n",
            ",  :  ,\n",
            "he  :  he\n",
            "started  :  start\n",
            "straight  :  straight\n",
            "for  :  for\n",
            "the  :  the\n",
            "barn  :  barn\n",
            ".  :  .\n"
          ],
          "name": "stdout"
        }
      ]
    },
    {
      "cell_type": "code",
      "metadata": {
        "colab": {
          "base_uri": "https://localhost:8080/"
        },
        "id": "zADFTk0lW_vd",
        "outputId": "e73451d4-f270-4731-daad-e94b1c4ab12c"
      },
      "source": [
        "# 8 \n",
        "punctuations = '''!()-[]{};:'\"\\,<>./?@#$%^&*_~'''\n",
        "my_new_counter = Counter()\n",
        "for word in gb.sents('burgess-busterbrown.txt'):\n",
        "  my_new_counter.update(word)\n",
        "\n",
        "for word in my_new_counter:\n",
        "  if word in sw:\n",
        "    continue \n",
        "  elif word in punctuations:\n",
        "    continue \n",
        "  else:\n",
        "    if my_new_counter [word] > 150:\n",
        "      print(word)"
      ],
      "execution_count": null,
      "outputs": [
        {
          "output_type": "stream",
          "text": [
            "Buster\n",
            "I\n"
          ],
          "name": "stdout"
        }
      ]
    },
    {
      "cell_type": "code",
      "metadata": {
        "colab": {
          "base_uri": "https://localhost:8080/"
        },
        "id": "IIG_t8BBW3I8",
        "outputId": "5cc3d5d8-4cd6-41c9-dffe-29e2e499e9cf"
      },
      "source": [
        "#9 From the above dictionary, \n",
        "#output all the numbers, including the ordinal numbers which are written using digits an letters (e.g., 2nd, 21st , etc.)\n",
        "import re \n",
        "for word in my_new_counter:\n",
        "  numbers = re.finditer(r'([\\d]+[a-z]*)', word)\n",
        "  for x in numbers:\n",
        "    print(x.group())\n",
        "    \n",
        "  numbers = re.finditer(r'\\b(one|two|three|four|five|six|seven|eight|nine|ten)\\b', word, flags=re.IGNORECASE)  \n",
        "  for x in numbers:\n",
        "    print(x.group())"
      ],
      "execution_count": null,
      "outputs": [
        {
          "output_type": "stream",
          "text": [
            "1920\n",
            "one\n",
            "5\n",
            "two\n",
            "three\n",
            "One\n",
            "26\n",
            "45\n",
            "71\n",
            "112\n",
            "Two\n"
          ],
          "name": "stdout"
        }
      ]
    },
    {
      "cell_type": "code",
      "metadata": {
        "colab": {
          "base_uri": "https://localhost:8080/",
          "height": 37
        },
        "id": "RrzxF-I6a8FA",
        "outputId": "49a7bbde-2d19-4659-eae6-2428beeea044"
      },
      "source": [
        "#10 here, I find the longest word in the 'whitman-leaves.txt'\n",
        "text = gb.words('whitman-leaves.txt')\n",
        "longest = ''\n",
        "for word in text:\n",
        "  if len(word) > len(longest):\n",
        "    longest = word\n",
        "longest"
      ],
      "execution_count": null,
      "outputs": [
        {
          "output_type": "execute_result",
          "data": {
            "application/vnd.google.colaboratory.intrinsic+json": {
              "type": "string"
            },
            "text/plain": [
              "'constructiveness'"
            ]
          },
          "metadata": {
            "tags": []
          },
          "execution_count": 15
        }
      ]
    },
    {
      "cell_type": "code",
      "metadata": {
        "colab": {
          "base_uri": "https://localhost:8080/"
        },
        "id": "X9nnlxLBXRu9",
        "outputId": "9741261c-7d50-4882-8461-2ed2f65ed4fe"
      },
      "source": [
        "#10 Then, I enumerated the key-value pairs of the frequency distribution of the 'whitman-leaves.txt', resulting in nested tuples (rank, (word, count)). \n",
        "\n",
        "fd = nltk.FreqDist(gb.words('whitman-leaves.txt'))\n",
        "cumulative = 0.0\n",
        "most_common_words = [word for (word, count) in fd.most_common()]\n",
        "my_words= []\n",
        "for rank, word in enumerate(most_common_words):\n",
        "     cumulative += fd.freq(word)\n",
        "     my_words.append(word)\n",
        "     print(\"%3d %6.2f%% %s\" % (rank + 1, cumulative * 100, word))\n",
        "     if cumulative > 0.65:\n",
        "         break\n",
        "\n",
        "#print the length of the list\n",
        "len(my_words)"
      ],
      "execution_count": null,
      "outputs": [
        {
          "output_type": "stream",
          "text": [
            "  1  11.44% ,\n",
            "  2  17.13% the\n",
            "  3  20.22% and\n",
            "  4  22.89% of\n",
            "  5  24.78% I\n",
            "  6  26.31% '\n",
            "  7  27.55% to\n",
            "  8  28.70% -\n",
            "  9  29.84% .\n",
            " 10  30.95% in\n",
            " 11  31.97% d\n",
            " 12  32.84% you\n",
            " 13  33.67% The\n",
            " 14  34.44% !\n",
            " 15  35.15% with\n",
            " 16  35.86% a\n",
            " 17  36.55% is\n",
            " 18  37.18% me\n",
            " 19  37.79% all\n",
            " 20  38.37% my\n",
            " 21  38.95% or\n",
            " 22  39.50% --\n",
            " 23  40.04% for\n",
            " 24  40.53% that\n",
            " 25  41.03% not\n",
            " 26  41.47% ?\n",
            " 27  41.91% it\n",
            " 28  42.33% as\n",
            " 29  42.73% on\n",
            " 30  43.12% from\n",
            " 31  43.50% O\n",
            " 32  43.89% s\n",
            " 33  44.27% are\n",
            " 34  44.61% And\n",
            " 35  44.92% be\n",
            " 36  45.22% (\n",
            " 37  45.51% at\n",
            " 38  45.80% them\n",
            " 39  46.08% by\n",
            " 40  46.33% see\n",
            " 41  46.58% }\n",
            " 42  46.82% they\n",
            " 43  47.06% ;\n",
            " 44  47.29% his\n",
            " 45  47.52% their\n",
            " 46  47.74% your\n",
            " 47  47.95% what\n",
            " 48  48.16% have\n",
            " 49  48.36% To\n",
            " 50  48.56% one\n",
            " 51  48.74% but\n",
            " 52  48.91% will\n",
            " 53  49.07% love\n",
            " 54  49.24% day\n",
            " 55  49.40% shall\n",
            " 56  49.56% life\n",
            " 57  49.72% out\n",
            " 58  49.87% more\n",
            " 59  50.03% soul\n",
            " 60  50.19% these\n",
            " 61  50.34% there\n",
            " 62  50.49% am\n",
            " 63  50.64% old\n",
            " 64  50.79% he\n",
            " 65  50.94% we\n",
            " 66  51.09% man\n",
            " 67  51.24% through\n",
            " 68  51.39% so\n",
            " 69  51.53% this\n",
            " 70  51.68% earth\n",
            " 71  51.82% long\n",
            " 72  51.97% no\n",
            " 73  52.11% now\n",
            " 74  52.25% its\n",
            " 75  52.40% than\n",
            " 76  52.53% thee\n",
            " 77  52.67% yet\n",
            " 78  52.81% ,)\n",
            " 79  52.95% night\n",
            " 80  53.08% any\n",
            " 81  53.21% do\n",
            " 82  53.34% men\n",
            " 83  53.46% A\n",
            " 84  53.59% You\n",
            " 85  53.71% him\n",
            " 86  53.83% thy\n",
            " 87  53.94% up\n",
            " 88  54.06% myself\n",
            " 89  54.17% sea\n",
            " 90  54.28% was\n",
            " 91  54.40% here\n",
            " 92  54.51% her\n",
            " 93  54.62% know\n",
            " 94  54.73% over\n",
            " 95  54.84% nor\n",
            " 96  54.95% For\n",
            " 97  55.05% those\n",
            " 98  55.16% As\n",
            " 99  55.27% every\n",
            "100  55.37% In\n",
            "101  55.47% well\n",
            "102  55.58% But\n",
            "103  55.68% who\n",
            "104  55.78% death\n",
            "105  55.88% great\n",
            "106  55.98% upon\n",
            "107  56.08% has\n",
            "108  56.17% time\n",
            "109  56.26% What\n",
            "110  56.35% only\n",
            "111  56.44% ever\n",
            "112  56.53% All\n",
            "113  56.62% where\n",
            "114  56.71% With\n",
            "115  56.80% come\n",
            "116  56.89% some\n",
            "117  56.98% many\n",
            "118  57.06% own\n",
            "119  57.15% how\n",
            "120  57.24% Of\n",
            "121  57.32% again\n",
            "122  57.41% hear\n",
            "123  57.49% face\n",
            "124  57.58% hand\n",
            "125  57.66% world\n",
            "126  57.74% each\n",
            "127  57.82% never\n",
            "128  57.90% like\n",
            "129  57.98% good\n",
            "130  58.05% thou\n",
            "131  58.13% body\n",
            "132  58.21% an\n",
            "133  58.28% Not\n",
            "134  58.36% pass\n",
            "135  58.43% last\n",
            "136  58.51% young\n",
            "137  58.58% go\n",
            "138  58.65% It\n",
            "139  58.72% far\n",
            "140  58.79% .)\n",
            "141  58.86% us\n",
            "142  58.93% rest\n",
            "143  59.00% Or\n",
            "144  59.07% My\n",
            "145  59.14% look\n",
            "146  59.21% air\n",
            "147  59.28% down\n",
            "148  59.34% eyes\n",
            "149  59.41% They\n",
            "150  59.48% sun\n",
            "151  59.54% too\n",
            "152  59.61% From\n",
            "153  59.68% Nor\n",
            "154  59.74% same\n",
            "155  59.81% other\n",
            "156  59.88% We\n",
            "157  59.94% land\n",
            "158  60.01% women\n",
            "159  60.07% dead\n",
            "160  60.13% after\n",
            "161  60.20% think\n",
            "162  60.26% before\n",
            "163  60.32% nothing\n",
            "164  60.38% sing\n",
            "165  60.44% war\n",
            "166  60.51% How\n",
            "167  60.57% woman\n",
            "168  60.63% then\n",
            "169  60.68% years\n",
            "170  60.74% give\n",
            "171  60.80% little\n",
            "172  60.86% our\n",
            "173  60.92% light\n",
            "174  60.97% if\n",
            "175  61.03% words\n",
            "176  61.09% back\n",
            "177  61.14% can\n",
            "178  61.20% were\n",
            "179  61.26% Thou\n",
            "180  61.31% she\n",
            "181  61.37% voice\n",
            "182  61.42% song\n",
            "183  61.48% States\n",
            "184  61.53% may\n",
            "185  61.59% lands\n",
            "186  61.64% white\n",
            "187  61.70% new\n",
            "188  61.75% would\n",
            "189  61.81% That\n",
            "190  61.86% much\n",
            "191  61.91% alone\n",
            "192  61.97% Where\n",
            "193  62.02% full\n",
            "194  62.07% forth\n",
            "195  62.12% past\n",
            "196  62.17% side\n",
            "197  62.22% America\n",
            "198  62.27% make\n",
            "199  62.32% city\n",
            "200  62.37% strong\n",
            "201  62.42% itself\n",
            "202  62.47% Now\n",
            "203  62.52% saw\n",
            "204  62.57% under\n",
            "205  62.62% songs\n",
            "206  62.67% around\n",
            "207  62.72% sweet\n",
            "208  62.77% mother\n",
            "209  62.82% away\n",
            "210  62.86% stars\n",
            "211  62.91% God\n",
            "212  62.96% work\n",
            "213  63.01% high\n",
            "214  63.05% perfect\n",
            "215  63.10% thought\n",
            "216  63.15% close\n",
            "217  63.20% head\n",
            "218  63.24% poems\n",
            "219  63.29% These\n",
            "220  63.34% toward\n",
            "221  63.38% others\n",
            "222  63.43% This\n",
            "223  63.47% things\n",
            "224  63.52% place\n",
            "225  63.57% which\n",
            "226  63.61% heart\n",
            "227  63.66% ship\n",
            "228  63.70% just\n",
            "229  63.75% beautiful\n",
            "230  63.79% house\n",
            "231  63.84% He\n",
            "232  63.88% while\n",
            "233  63.93% stand\n",
            "234  63.97% take\n",
            "235  64.01% joy\n",
            "236  64.06% call\n",
            "237  64.10% fields\n",
            "238  64.14% blood\n",
            "239  64.18% divine\n",
            "240  64.23% children\n",
            "241  64.27% part\n",
            "242  64.31% ]\n",
            "243  64.35% waves\n",
            "244  64.39% word\n",
            "245  64.43% also\n",
            "246  64.47% off\n",
            "247  64.52% days\n",
            "248  64.56% cities\n",
            "249  64.60% Here\n",
            "250  64.64% sky\n",
            "251  64.68% mine\n",
            "252  64.72% when\n",
            "253  64.76% must\n",
            "254  64.80% hands\n",
            "255  64.84% walk\n",
            "256  64.88% Who\n",
            "257  64.92% themselves\n",
            "258  64.96% When\n",
            "259  65.00% without\n"
          ],
          "name": "stdout"
        },
        {
          "output_type": "execute_result",
          "data": {
            "text/plain": [
              "259"
            ]
          },
          "metadata": {
            "tags": []
          },
          "execution_count": 16
        }
      ]
    },
    {
      "cell_type": "code",
      "metadata": {
        "colab": {
          "base_uri": "https://localhost:8080/"
        },
        "id": "Hw8k3Pz6ZJOU",
        "outputId": "d882f31a-9e0c-423c-fdcd-da98397fcd5a"
      },
      "source": [
        "#Creat a second list excluding punctuations and stopwords \n",
        "my_words2= []\n",
        "for word in my_words:\n",
        "  if word in punctuations:\n",
        "    continue\n",
        "  if word in sw:\n",
        "    continue\n",
        "  else:\n",
        "       my_words2.append(word)  \n",
        "len(my_words2)"
      ],
      "execution_count": null,
      "outputs": [
        {
          "output_type": "execute_result",
          "data": {
            "text/plain": [
              "159"
            ]
          },
          "metadata": {
            "tags": []
          },
          "execution_count": 17
        }
      ]
    },
    {
      "cell_type": "code",
      "metadata": {
        "colab": {
          "base_uri": "https://localhost:8080/"
        },
        "id": "IdfmVs4vRBOL",
        "outputId": "cb4977a1-a383-406c-df15-ccfd1b6002ec"
      },
      "source": [
        "#change list to string \n",
        "top_words = ' '.join([str(elem) for elem in my_words2]) \n",
        "  \n",
        "print(top_words)"
      ],
      "execution_count": null,
      "outputs": [
        {
          "output_type": "stream",
          "text": [
            "I The -- O And see To one love day shall life soul old man earth long thee yet ,) night men A You thy sea know For As every In well But death great upon time What ever All With come many Of hear face hand world never like good thou body Not pass last young go It far .) us rest Or My look air eyes They sun From Nor We land women dead think nothing sing war How woman years give little light words back Thou voice song States may lands white new would That much alone Where full forth past side America make city strong Now saw songs around sweet mother away stars God work high perfect thought close head poems These toward others This things place heart ship beautiful house He stand take joy call fields blood divine children part waves word also days cities Here sky mine must hands walk Who When without\n"
          ],
          "name": "stdout"
        }
      ]
    },
    {
      "cell_type": "code",
      "metadata": {
        "id": "PTRFPilvDh_y"
      },
      "source": [
        "# Creat a word cloud from these words \n",
        "#Install needed libraries \n",
        "import numpy as np  \n",
        "import pandas as pd \n",
        "from PIL import Image \n",
        "import matplotlib.pyplot as plt\n",
        "import seaborn as sns\n",
        "\n",
        "%matplotlib inline"
      ],
      "execution_count": null,
      "outputs": []
    },
    {
      "cell_type": "code",
      "metadata": {
        "colab": {
          "base_uri": "https://localhost:8080/"
        },
        "id": "evBSmBB5Di23",
        "outputId": "9c5bcc45-b7ec-4910-83e5-1e05a1b1e060"
      },
      "source": [
        "# install wordcloud\n",
        "!pip install wordcloud"
      ],
      "execution_count": null,
      "outputs": [
        {
          "output_type": "stream",
          "text": [
            "Requirement already satisfied: wordcloud in /usr/local/lib/python3.6/dist-packages (1.5.0)\n",
            "Requirement already satisfied: numpy>=1.6.1 in /usr/local/lib/python3.6/dist-packages (from wordcloud) (1.18.5)\n",
            "Requirement already satisfied: pillow in /usr/local/lib/python3.6/dist-packages (from wordcloud) (7.0.0)\n"
          ],
          "name": "stdout"
        }
      ]
    },
    {
      "cell_type": "code",
      "metadata": {
        "id": "PfZqZxUIDmcr"
      },
      "source": [
        "from wordcloud import WordCloud"
      ],
      "execution_count": null,
      "outputs": []
    },
    {
      "cell_type": "code",
      "metadata": {
        "colab": {
          "base_uri": "https://localhost:8080/"
        },
        "id": "CQGVbCuTD2mC",
        "outputId": "34beb8b6-abef-4f50-fc78-65207c9215bc"
      },
      "source": [
        "# instantiate a word cloud object\n",
        "my_wordcloud = WordCloud(\n",
        "    background_color='white')\n",
        "\n",
        "# generate the word cloud\n",
        "my_wordcloud.generate(top_words)"
      ],
      "execution_count": null,
      "outputs": [
        {
          "output_type": "execute_result",
          "data": {
            "text/plain": [
              "<wordcloud.wordcloud.WordCloud at 0x7ff340afc240>"
            ]
          },
          "metadata": {
            "tags": []
          },
          "execution_count": 22
        }
      ]
    },
    {
      "cell_type": "code",
      "metadata": {
        "colab": {
          "base_uri": "https://localhost:8080/",
          "height": 198
        },
        "id": "_rVq9_T7D6C7",
        "outputId": "e7d925db-e83c-465f-9c19-f52326d496ec"
      },
      "source": [
        "# display the word cloud of my words! \n",
        "plt.imshow(my_wordcloud, interpolation='bilinear')\n",
        "plt.axis('off')\n",
        "plt.show()\n",
        "#tadaaaa!"
      ],
      "execution_count": null,
      "outputs": [
        {
          "output_type": "display_data",
          "data": {
            "image/png": "[encoded data removed]",
            "text/plain": [
              "<Figure size 432x288 with 1 Axes>"
            ]
          },
          "metadata": {
            "tags": [],
            "needs_background": "light"
          }
        }
      ]
    }
  ]
}